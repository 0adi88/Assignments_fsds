{
 "cells": [
  {
   "cell_type": "code",
   "execution_count": 18,
   "id": "c2631156",
   "metadata": {},
   "outputs": [
    {
     "data": {
      "text/plain": [
       "21"
      ]
     },
     "execution_count": 18,
     "metadata": {},
     "output_type": "execute_result"
    }
   ],
   "source": [
    "# 1. Write a Python Program to Display Fibonacci Sequence Using Recursion?\n",
    "\n",
    "def fibo(n):\n",
    "    '''Recursion function to find the factorial of a number '''\n",
    "    if n <= 1:\n",
    "        return n\n",
    "    return (fibo(n-1) + fibo(n-2))\n",
    "fibo(8)"
   ]
  },
  {
   "cell_type": "code",
   "execution_count": 20,
   "id": "d11ae90b",
   "metadata": {},
   "outputs": [
    {
     "data": {
      "text/plain": [
       "120"
      ]
     },
     "execution_count": 20,
     "metadata": {},
     "output_type": "execute_result"
    }
   ],
   "source": [
    "# 2. Write a Python Program to Find Factorial of Number Using Recursion?\n",
    "\n",
    "def fact(n):\n",
    "    ''' Recursion fuction to find the recursion of a number '''\n",
    "    if (n == 1 or 0):\n",
    "        return n \n",
    "    return n*fact(n-1)\n",
    "fact(5)         "
   ]
  },
  {
   "cell_type": "code",
   "execution_count": 22,
   "id": "dec65a8a",
   "metadata": {},
   "outputs": [
    {
     "data": {
      "text/plain": [
       "19.59631589261219"
      ]
     },
     "execution_count": 22,
     "metadata": {},
     "output_type": "execute_result"
    }
   ],
   "source": [
    "# 3. Write a Python Program to calculate your Body Mass Index?\n",
    "\n",
    "def bmiCalc(w,h):\n",
    "    '''this function will calculate bmi of from the given input of weight as parameter'''\n",
    "    return (w / (h/100)**2)\n",
    "bmiCalc(70,189)"
   ]
  },
  {
   "cell_type": "code",
   "execution_count": 46,
   "id": "6e5798ec",
   "metadata": {},
   "outputs": [
    {
     "data": {
      "text/plain": [
       "2.0"
      ]
     },
     "execution_count": 46,
     "metadata": {},
     "output_type": "execute_result"
    }
   ],
   "source": [
    "# 4. Write a Python Program to calculate the natural logarithm of any number?\n",
    "def logcalc(n):\n",
    "    '''function is used to fidn the log '''\n",
    "    import math\n",
    "    return math.log10(n)\n",
    "logcalc(100)   "
   ]
  },
  {
   "cell_type": "code",
   "execution_count": 5,
   "id": "fb2ce6fe",
   "metadata": {},
   "outputs": [
    {
     "data": {
      "text/plain": [
       "36"
      ]
     },
     "execution_count": 5,
     "metadata": {},
     "output_type": "execute_result"
    }
   ],
   "source": [
    "# 5. Write a Python Program for cube sum of first n natural numbers?\n",
    "\n",
    "def cubesum(n):\n",
    "    \"\"\"Fundction will calculate the sum of cube od n natural numbers\"\"\"\n",
    "    sum = 0\n",
    "    for i in range (1,n+1):\n",
    "        sum += pow(i,3) \n",
    "    \n",
    "    return sum  \n",
    "cubesum(3)"
   ]
  },
  {
   "cell_type": "code",
   "execution_count": null,
   "id": "73af0c66",
   "metadata": {},
   "outputs": [],
   "source": []
  },
  {
   "cell_type": "code",
   "execution_count": null,
   "id": "f7ba010a",
   "metadata": {},
   "outputs": [],
   "source": []
  },
  {
   "cell_type": "code",
   "execution_count": null,
   "id": "69fd73da",
   "metadata": {},
   "outputs": [],
   "source": []
  }
 ],
 "metadata": {
  "kernelspec": {
   "display_name": "Python 3 (ipykernel)",
   "language": "python",
   "name": "python3"
  },
  "language_info": {
   "codemirror_mode": {
    "name": "ipython",
    "version": 3
   },
   "file_extension": ".py",
   "mimetype": "text/x-python",
   "name": "python",
   "nbconvert_exporter": "python",
   "pygments_lexer": "ipython3",
   "version": "3.9.7"
  }
 },
 "nbformat": 4,
 "nbformat_minor": 5
}
