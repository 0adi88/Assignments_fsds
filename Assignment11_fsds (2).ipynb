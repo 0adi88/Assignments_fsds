{
 "cells": [
  {
   "cell_type": "code",
   "execution_count": 6,
   "id": "f95aec5a",
   "metadata": {},
   "outputs": [
    {
     "data": {
      "text/plain": [
       "['aditya']"
      ]
     },
     "execution_count": 6,
     "metadata": {},
     "output_type": "execute_result"
    }
   ],
   "source": [
    "# 1. Write a Python program to find words which are greater than given length k?\n",
    "\n",
    "def findlenk(*args,k):\n",
    "    '''this function will return the words which are greater than given length in the parameter'''\n",
    "    l1 = [*args]\n",
    "    l2 = []\n",
    "    for word in l1:\n",
    "        if type(word) == str and len(word) > k:\n",
    "            l2.append(word)\n",
    "        else:\n",
    "            continue\n",
    "    return l2\n",
    "findlenk(\"aditya\",2,4,5,7,[12,33],k=4)\n",
    "            \n",
    "\n"
   ]
  },
  {
   "cell_type": "code",
   "execution_count": 14,
   "id": "cc4ee5af",
   "metadata": {},
   "outputs": [
    {
     "data": {
      "text/plain": [
       "'adiya'"
      ]
     },
     "execution_count": 14,
     "metadata": {},
     "output_type": "execute_result"
    }
   ],
   "source": [
    "# Write a Python program for removing i-th character from a string?\n",
    "\n",
    "def remove(s,i):\n",
    "    '''this function will remove the ith character from the string '''\n",
    "    val = s[i]\n",
    "    return s.replace(val,'')\n",
    "remove(\"aditya\",3)"
   ]
  },
  {
   "cell_type": "code",
   "execution_count": 27,
   "id": "5e445b2c",
   "metadata": {
    "scrolled": true
   },
   "outputs": [
    {
     "data": {
      "text/plain": [
       "(['aditya', 'Mishra'], 'aditya-Mishra')"
      ]
     },
     "execution_count": 27,
     "metadata": {},
     "output_type": "execute_result"
    }
   ],
   "source": [
    "# 3. Write a Python program to split and join a string?\n",
    "\n",
    "def spj(str1):\n",
    "    '''This program will return the splitting of a string and joining of the same'''\n",
    "    \n",
    "    str2 = str1.split(\" \")\n",
    "    str3 = \"-\".join(str2)\n",
    "    return str2, str3\n",
    "\n",
    "spj(\"aditya Mishra\")"
   ]
  },
  {
   "cell_type": "code",
   "execution_count": 32,
   "id": "037be99e",
   "metadata": {},
   "outputs": [
    {
     "data": {
      "text/plain": [
       "'not binary'"
      ]
     },
     "execution_count": 32,
     "metadata": {},
     "output_type": "execute_result"
    }
   ],
   "source": [
    "# 4. Write a Python to check if a given string is binary string or not?\n",
    "\n",
    "def checkbin(str1):\n",
    "    '''this function will tell whether the given string id binary or not'''\n",
    "    s1 = {'0','1'}\n",
    "    s2= set(str1)\n",
    "    if set(str1) == s1 or s2 == {'0'} or s2=={'1'}:\n",
    "        return \"Binary\"\n",
    "    else:\n",
    "        return \"not binary\"\n",
    "checkbin(\"3031sd\")\n"
   ]
  },
  {
   "cell_type": "code",
   "execution_count": 35,
   "id": "4fdd637f",
   "metadata": {},
   "outputs": [
    {
     "data": {
      "text/plain": [
       "['mishra', 'kadipur']"
      ]
     },
     "execution_count": 35,
     "metadata": {},
     "output_type": "execute_result"
    }
   ],
   "source": [
    " # 5. Write a Python program to find uncommon words from two Strings?\n",
    "    \n",
    "def uncommon(str1,str2):\n",
    "    '''this finction will return the uncommon words from the given 2 string as input'''\n",
    "    strA = str1.split(\" \")\n",
    "    strB = str2 .split(\" \")\n",
    "    uncommonList = []\n",
    "    for i in strA:\n",
    "        if i not in strB:\n",
    "            uncommonList.append(i)\n",
    "    for a in strB:\n",
    "        if a not in strA:\n",
    "            uncommonList.append(a)\n",
    "    return uncommonList\n",
    "\n",
    "uncommon(\"aditya mishra\", \"aditya kadipur\")"
   ]
  },
  {
   "cell_type": "code",
   "execution_count": 42,
   "id": "2b67afea",
   "metadata": {},
   "outputs": [
    {
     "data": {
      "text/plain": [
       "'a'"
      ]
     },
     "execution_count": 42,
     "metadata": {},
     "output_type": "execute_result"
    }
   ],
   "source": [
    "# 6. Write a Python to find all duplicate characters in string?\n",
    "\n",
    "def dup(stra):\n",
    "    '''this function will return the duplicate characters'''\n",
    "    str1 = stra.lower()\n",
    "    x = filter(lambda x: str1.count(x)>=2 , str1)\n",
    "    val = \" \".join(set(x))\n",
    "    return val\n",
    "\n",
    "dup(\"Aditya\")\n",
    "            "
   ]
  },
  {
   "cell_type": "code",
   "execution_count": 8,
   "id": "20c81a4c",
   "metadata": {},
   "outputs": [
    {
     "data": {
      "text/plain": [
       "{'&', '*'}"
      ]
     },
     "execution_count": 8,
     "metadata": {},
     "output_type": "execute_result"
    }
   ],
   "source": [
    "# 7. Write a Python Program to check if a string contains any special character?\n",
    "\n",
    "def sepec(str1):\n",
    "    '''this function will check that any special character is present in the given input'''\n",
    "    import re \n",
    "    regex = re.compile('[@_!#$%^&*()<>?/\\|}{~:]')\n",
    "    \n",
    "    x = filter(lambda a: (regex.search(a)), str1)\n",
    "    return set(x)\n",
    "               \n",
    "sepec(\"asds8*&\")\n"
   ]
  },
  {
   "cell_type": "code",
   "execution_count": null,
   "id": "ef92beeb",
   "metadata": {},
   "outputs": [],
   "source": []
  }
 ],
 "metadata": {
  "kernelspec": {
   "display_name": "Python 3 (ipykernel)",
   "language": "python",
   "name": "python3"
  },
  "language_info": {
   "codemirror_mode": {
    "name": "ipython",
    "version": 3
   },
   "file_extension": ".py",
   "mimetype": "text/x-python",
   "name": "python",
   "nbconvert_exporter": "python",
   "pygments_lexer": "ipython3",
   "version": "3.9.7"
  }
 },
 "nbformat": 4,
 "nbformat_minor": 5
}
