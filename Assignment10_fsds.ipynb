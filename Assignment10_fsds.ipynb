{
 "cells": [
  {
   "cell_type": "code",
   "execution_count": 4,
   "id": "0b47b1a3",
   "metadata": {},
   "outputs": [
    {
     "data": {
      "text/plain": [
       "15"
      ]
     },
     "execution_count": 4,
     "metadata": {},
     "output_type": "execute_result"
    }
   ],
   "source": [
    "# Write a Python program to find sum of elements in list?\n",
    "\n",
    "def listSum(*args):\n",
    "    '''This function will provide the sum of all the inputs given for the list'''\n",
    "    l1 = [*args]\n",
    "    return sum(l1)\n",
    "\n",
    "listSum(2,3,4,6)\n",
    "\n",
    "\n"
   ]
  },
  {
   "cell_type": "code",
   "execution_count": 10,
   "id": "83f2e41f",
   "metadata": {},
   "outputs": [
    {
     "data": {
      "text/plain": [
       "72"
      ]
     },
     "execution_count": 10,
     "metadata": {},
     "output_type": "execute_result"
    }
   ],
   "source": [
    "# Write a Python program to Multiply all numbers in the list?\n",
    "\n",
    "from functools import reduce \n",
    "def multlist(*args):\n",
    "    '''This function will give multiplication of the elements given as input to the list'''\n",
    "    l2 = [*args]\n",
    "    return (reduce((lambda x, y:x*y),l2))\n",
    "\n",
    "multlist(1,3,4,6)  "
   ]
  },
  {
   "cell_type": "code",
   "execution_count": 15,
   "id": "f8e584e5",
   "metadata": {},
   "outputs": [
    {
     "data": {
      "text/plain": [
       "0"
      ]
     },
     "execution_count": 15,
     "metadata": {},
     "output_type": "execute_result"
    }
   ],
   "source": [
    "# 3. Write a Python program to find smallest number in a list?\n",
    "\n",
    "def smallnum(*args):\n",
    "    '''this fuction is for finding the smallest number from the given list'''\n",
    "    l3 = [*args]\n",
    "    ls = set(l3)\n",
    "    return (next(iter(ls)))\n",
    "smallnum(1,4,0,2)"
   ]
  },
  {
   "cell_type": "code",
   "execution_count": 21,
   "id": "81e1a3bc",
   "metadata": {},
   "outputs": [
    {
     "data": {
      "text/plain": [
       "17"
      ]
     },
     "execution_count": 21,
     "metadata": {},
     "output_type": "execute_result"
    }
   ],
   "source": [
    "# 4. Write a Python program to find largest number in a list? \n",
    "\n",
    "def largestnum(*args):\n",
    "    '''the function will give you largest number from the given input from the list'''\n",
    "    l4 = [*args]\n",
    "    l4 = sorted(l4, reverse= True)\n",
    "    return l4[0]\n",
    "\n",
    "largestnum(7,3,5,3,10,17)\n",
    "    \n",
    "    "
   ]
  },
  {
   "cell_type": "code",
   "execution_count": 22,
   "id": "bcf7cd60",
   "metadata": {},
   "outputs": [
    {
     "data": {
      "text/plain": [
       "13"
      ]
     },
     "execution_count": 22,
     "metadata": {},
     "output_type": "execute_result"
    }
   ],
   "source": [
    "# 5. Write a Python program to find second largest number in a list?\n",
    "\n",
    "def Slargestnum(*args):\n",
    "    '''the function will give you 2nd largest number from the given input from the list'''\n",
    "    l4 = [*args]\n",
    "    l4 = sorted(l4, reverse= True)\n",
    "    return l4[1]\n",
    "\n",
    "Slargestnum(7,3,5,3,10,17,12,13,1,1)\n",
    "    \n"
   ]
  },
  {
   "cell_type": "code",
   "execution_count": 25,
   "id": "8dbc7df0",
   "metadata": {},
   "outputs": [
    {
     "data": {
      "text/plain": [
       "13"
      ]
     },
     "execution_count": 25,
     "metadata": {},
     "output_type": "execute_result"
    }
   ],
   "source": [
    "# 6. Write a Python program to find N largest elements from a list?\n",
    "\n",
    "def Nthlargestnum(*args,n):\n",
    "    '''the function will give you nth largest number from the given input from the list'''\n",
    "    l4 = [*args]\n",
    "    l4 = sorted(l4, reverse= True)\n",
    "    return l4[n-1]\n",
    "\n",
    "Nthlargestnum(7,3,5,3,10,17,12,13,1,1,n=2)"
   ]
  },
  {
   "cell_type": "code",
   "execution_count": 29,
   "id": "95edca3f",
   "metadata": {},
   "outputs": [
    {
     "data": {
      "text/plain": [
       "[10, 12]"
      ]
     },
     "execution_count": 29,
     "metadata": {},
     "output_type": "execute_result"
    }
   ],
   "source": [
    "# 7. Write a Python program to print even numbers in a list?\n",
    "\n",
    "def even(*args):\n",
    "    '''this fuction will print the even from a list'''\n",
    "    l5 = [*args]\n",
    "    return [x for x in l5 if x%2 == 0]\n",
    "even(7,3,5,3,10,17,12,13,1,1)   "
   ]
  },
  {
   "cell_type": "code",
   "execution_count": 33,
   "id": "454f2c40",
   "metadata": {},
   "outputs": [
    {
     "data": {
      "text/plain": [
       "[7, 3, 5, 3, 17, 13, 1, 1]"
      ]
     },
     "execution_count": 33,
     "metadata": {},
     "output_type": "execute_result"
    }
   ],
   "source": [
    "# 8. Write a Python program to print odd numbers in a List?\n",
    "\n",
    "\n",
    "def odd(*args):\n",
    "    '''this fuction will print the odd from a list'''\n",
    "    l6 = [*args]\n",
    "    return [x for x in l6 if x%2 != 0]\n",
    "odd(7,3,5,3,10,17,12,13,1,1)   "
   ]
  },
  {
   "cell_type": "code",
   "execution_count": 35,
   "id": "5cc9f64e",
   "metadata": {},
   "outputs": [
    {
     "data": {
      "text/plain": [
       "[2, 3, [1, 23]]"
      ]
     },
     "execution_count": 35,
     "metadata": {},
     "output_type": "execute_result"
    }
   ],
   "source": [
    "# 9. Write a Python program to Remove empty List from List?\n",
    "\n",
    "def removeempty(*args):\n",
    "    '''this function removes the empty list inside a list'''\n",
    "    l7 = [*args]\n",
    "    l8 = []\n",
    "    for i in l7:\n",
    "        if type(i) == list:\n",
    "            if len(i) == 0:\n",
    "                continue\n",
    "            else :\n",
    "                l8.append(i)\n",
    "        else:\n",
    "            l8.append(i)\n",
    "    return l8\n",
    "        \n",
    "        \n",
    "removeempty(2,3,[],[1,23])                 \n",
    "    "
   ]
  },
  {
   "cell_type": "code",
   "execution_count": 47,
   "id": "c9f178fb",
   "metadata": {},
   "outputs": [
    {
     "name": "stdout",
     "output_type": "stream",
     "text": [
      "[2, 3, 4, 5, 7, 23, 3, 4]\n"
     ]
    }
   ],
   "source": [
    "# 10. Write a Python program to Cloning or Copying a list?\n",
    "\n",
    "l1 = [2,3,4,5,7,23,3,4]\n",
    "l2 = []\n",
    "l2 = l1.copy()\n",
    "print(l2)\n"
   ]
  },
  {
   "cell_type": "code",
   "execution_count": 50,
   "id": "a2faddde",
   "metadata": {},
   "outputs": [
    {
     "data": {
      "text/plain": [
       "2"
      ]
     },
     "execution_count": 50,
     "metadata": {},
     "output_type": "execute_result"
    }
   ],
   "source": [
    "# 11. Write a Python program to Count occurrences of an element in a list?\n",
    "\n",
    "def occ(*args,n):\n",
    "    '''this function will find the occurance of a given element in a list'''\n",
    "    l11 = [*args]\n",
    "    return l11.count(n)\n",
    "\n",
    "occ(7,3,5,3,10,17,12,13,1,1,n=1) \n"
   ]
  },
  {
   "cell_type": "code",
   "execution_count": null,
   "id": "4e1dc19f",
   "metadata": {},
   "outputs": [],
   "source": []
  }
 ],
 "metadata": {
  "kernelspec": {
   "display_name": "Python 3 (ipykernel)",
   "language": "python",
   "name": "python3"
  },
  "language_info": {
   "codemirror_mode": {
    "name": "ipython",
    "version": 3
   },
   "file_extension": ".py",
   "mimetype": "text/x-python",
   "name": "python",
   "nbconvert_exporter": "python",
   "pygments_lexer": "ipython3",
   "version": "3.9.7"
  }
 },
 "nbformat": 4,
 "nbformat_minor": 5
}
