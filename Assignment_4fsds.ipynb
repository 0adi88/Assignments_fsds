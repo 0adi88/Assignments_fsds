{
 "cells": [
  {
   "cell_type": "code",
   "execution_count": 8,
   "id": "3803b568",
   "metadata": {},
   "outputs": [
    {
     "data": {
      "text/plain": [
       "120"
      ]
     },
     "execution_count": 8,
     "metadata": {},
     "output_type": "execute_result"
    }
   ],
   "source": [
    "#1. Write a Python Program to Find the Factorial of a Number?\n",
    "\n",
    "def fact(n):\n",
    "    '''this is for calculating the factorial of given number'''\n",
    "    if n < 0:\n",
    "        return -1\n",
    "    elif n == 1 or 0:\n",
    "        return 1 \n",
    "    else:\n",
    "        return n*fact(n-1)\n",
    "\n",
    "fact(5)"
   ]
  },
  {
   "cell_type": "code",
   "execution_count": 23,
   "id": "26778598",
   "metadata": {},
   "outputs": [
    {
     "name": "stdout",
     "output_type": "stream",
     "text": [
      "4 * 0 = 0\n",
      "4 * 1 = 4\n",
      "4 * 2 = 8\n",
      "4 * 3 = 12\n",
      "4 * 4 = 16\n",
      "4 * 5 = 20\n",
      "4 * 6 = 24\n",
      "4 * 7 = 28\n",
      "4 * 8 = 32\n",
      "4 * 9 = 36\n",
      "4 * 10 = 40\n"
     ]
    }
   ],
   "source": [
    "# 2. Write a Python Program to Display the multiplication Table?\n",
    "\n",
    "def table(n):\n",
    "    '''this function is for the printing of the table of a given number'''\n",
    "    \n",
    "    for i in range(0,11):\n",
    "        result = int(n*i)\n",
    "        print(\"{}\" \" * \" \"{}\"  \" = \" \"{}\".format(n,i,result))\n",
    "        \n",
    "table(4)"
   ]
  },
  {
   "cell_type": "code",
   "execution_count": 34,
   "id": "fd68189f",
   "metadata": {},
   "outputs": [
    {
     "data": {
      "text/plain": [
       "(1, 1, 2, 3, 5, 8, 13, 21, 34, 55)"
      ]
     },
     "execution_count": 34,
     "metadata": {},
     "output_type": "execute_result"
    }
   ],
   "source": [
    "# 3. Write a Python Program to Print the Fibonacci sequence?\n",
    "\n",
    "def fibo(n):\n",
    "    '''This function will print fib series till the given number take n as input'''\n",
    "    \n",
    "    fib1 = 0\n",
    "    fib2 = 1\n",
    "    fibn = 1\n",
    "    for i in range(0,n):\n",
    "        yield (fibn)\n",
    "        fibn = fib1 + fib2\n",
    "        fib1 = fib2 \n",
    "        fib2 = fibn\n",
    "tuple(fibo(10)) "
   ]
  },
  {
   "cell_type": "code",
   "execution_count": 12,
   "id": "8944e74a",
   "metadata": {},
   "outputs": [
    {
     "data": {
      "text/plain": [
       "True"
      ]
     },
     "execution_count": 12,
     "metadata": {},
     "output_type": "execute_result"
    }
   ],
   "source": [
    "# 4. Write a Python Program to Check Armstrong Number?\n",
    "\n",
    "def armstrong(n):\n",
    "    '''this fuction is to tell whether a number is armstrong number or not'''\n",
    "    value = 0 \n",
    "    n1= n\n",
    "    length = len(str(n))\n",
    "    while n1 != 0:\n",
    "        rem = n1 % 10\n",
    "        value = value + rem ** length\n",
    "        n1 = n1 // 10\n",
    "    return True if value == n else False\n",
    "\n",
    "armstrong(153)"
   ]
  },
  {
   "cell_type": "code",
   "execution_count": 6,
   "id": "e3f22105",
   "metadata": {},
   "outputs": [
    {
     "data": {
      "text/plain": [
       "(1, 2, 3, 4, 5, 6, 7, 8, 9, 153)"
      ]
     },
     "execution_count": 6,
     "metadata": {},
     "output_type": "execute_result"
    }
   ],
   "source": [
    "# Write a Python Program to Find Armstrong Number in an Interval?\n",
    "\n",
    "def intervalArmstrong(interval):\n",
    "    '''This fucction will give the output ans armstrong number '''\n",
    "    \n",
    "    for i in range (1,interval):\n",
    "            value = 0 \n",
    "            n1= i\n",
    "            length = len(str(i))\n",
    "            \n",
    "            while n1 != 0:\n",
    "                rem = n1 % 10\n",
    "                value = value + rem ** length\n",
    "                n1 = n1 // 10\n",
    "            if value == i:\n",
    "                yield (value)\n",
    "                \n",
    "                \n",
    "                \n",
    "            else :\n",
    "                continue\n",
    "    \n",
    "\n",
    "tuple(intervalArmstrong(200))\n",
    "        "
   ]
  },
  {
   "cell_type": "code",
   "execution_count": 7,
   "id": "8d8e435c",
   "metadata": {},
   "outputs": [
    {
     "data": {
      "text/plain": [
       "55.0"
      ]
     },
     "execution_count": 7,
     "metadata": {},
     "output_type": "execute_result"
    }
   ],
   "source": [
    "# Write a Python Program to Find the Sum of Natural Numbers?\n",
    "\n",
    "def sumNat(n):\n",
    "    '''This function will give sumon n natural numbers '''\n",
    "    return n*(n+1)/2\n",
    "sumNat(10)"
   ]
  },
  {
   "cell_type": "code",
   "execution_count": null,
   "id": "6efe8151",
   "metadata": {},
   "outputs": [],
   "source": []
  },
  {
   "cell_type": "code",
   "execution_count": null,
   "id": "f8963cca",
   "metadata": {},
   "outputs": [],
   "source": []
  },
  {
   "cell_type": "code",
   "execution_count": null,
   "id": "ab76be8a",
   "metadata": {},
   "outputs": [],
   "source": []
  },
  {
   "cell_type": "code",
   "execution_count": null,
   "id": "537e0ba5",
   "metadata": {},
   "outputs": [],
   "source": []
  },
  {
   "cell_type": "code",
   "execution_count": null,
   "id": "aeb0a052",
   "metadata": {},
   "outputs": [],
   "source": []
  }
 ],
 "metadata": {
  "kernelspec": {
   "display_name": "Python 3 (ipykernel)",
   "language": "python",
   "name": "python3"
  },
  "language_info": {
   "codemirror_mode": {
    "name": "ipython",
    "version": 3
   },
   "file_extension": ".py",
   "mimetype": "text/x-python",
   "name": "python",
   "nbconvert_exporter": "python",
   "pygments_lexer": "ipython3",
   "version": "3.9.7"
  }
 },
 "nbformat": 4,
 "nbformat_minor": 5
}
