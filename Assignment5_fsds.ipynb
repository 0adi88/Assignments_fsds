{
 "cells": [
  {
   "cell_type": "code",
   "execution_count": 3,
   "id": "cdab99a5",
   "metadata": {},
   "outputs": [
    {
     "data": {
      "text/plain": [
       "30"
      ]
     },
     "execution_count": 3,
     "metadata": {},
     "output_type": "execute_result"
    }
   ],
   "source": [
    " #  1. Write a Python Program to Find LCM?\n",
    "    \n",
    "def gcd(a,b):\n",
    "    '''Claculating the Gcd of 2 numbers'''\n",
    "    if a == 0:\n",
    "        return b\n",
    "    return gcd(b % a, a)\n",
    "  \n",
    "\n",
    "def lcm(a,b):\n",
    "    return (a * b) // gcd(a,b)\n",
    "  \n",
    "lcm(2,15)"
   ]
  },
  {
   "cell_type": "code",
   "execution_count": 6,
   "id": "fe6584ba",
   "metadata": {},
   "outputs": [
    {
     "data": {
      "text/plain": [
       "5"
      ]
     },
     "execution_count": 6,
     "metadata": {},
     "output_type": "execute_result"
    }
   ],
   "source": [
    "# 2. Write a Python Program to Find HCF? \n",
    "\n",
    "def gcd(a,b):\n",
    "    '''Claculating the Gcd/HCF of 2 numbers'''\n",
    "    if a == 0:\n",
    "        return b\n",
    "    return gcd(b % a, a)\n",
    "\n",
    "gcd(10,5)"
   ]
  },
  {
   "cell_type": "code",
   "execution_count": 32,
   "id": "11be27fb",
   "metadata": {},
   "outputs": [
    {
     "data": {
      "text/plain": [
       "('0b1110000', '0o160', '0x70')"
      ]
     },
     "execution_count": 32,
     "metadata": {},
     "output_type": "execute_result"
    }
   ],
   "source": [
    " # 3. Write a Python Program to Convert Decimal to Binary, Octal and Hexadecimal?\n",
    "      \n",
    "def decConv(deci):\n",
    "    '''this function is to converst from decimal to binary,oct,hex'''\n",
    "    return bin(deci), oct(deci), hex(deci)\n",
    "    \n",
    "decConv(112)"
   ]
  },
  {
   "cell_type": "code",
   "execution_count": 36,
   "id": "0e8837a1",
   "metadata": {},
   "outputs": [
    {
     "data": {
      "text/plain": [
       "97"
      ]
     },
     "execution_count": 36,
     "metadata": {},
     "output_type": "execute_result"
    }
   ],
   "source": [
    "# 4. Write a Python Program To Find ASCII value of a character?\n",
    "\n",
    "def asciiValue(char1):\n",
    "    return(ord(char1))\n",
    "\n",
    "asciiValue('a')\n"
   ]
  },
  {
   "cell_type": "code",
   "execution_count": 40,
   "id": "d92f5d85",
   "metadata": {},
   "outputs": [
    {
     "data": {
      "text/plain": [
       "('addition is',\n",
       " 15,\n",
       " 'multiplication is : ',\n",
       " 50,\n",
       " 'substraction is : ',\n",
       " -5,\n",
       " 'division is : ',\n",
       " 0.5)"
      ]
     },
     "execution_count": 40,
     "metadata": {},
     "output_type": "execute_result"
    }
   ],
   "source": [
    "# Write a Python Program to Make a Simple Calculator with 4 basic mathematical operations?\n",
    "\n",
    "def calc(data1, data2):\n",
    "    '''this is a calculator function gives output of 4 basic operations'''\n",
    "    return \"addition is\",(data1+data2), \"multiplication is : \" ,(data1 * data2), \"substraction is : \",(data1-data2), \"division is : \",(data1/data2)\n",
    " \n",
    "calc(5,10)\n",
    "    "
   ]
  },
  {
   "cell_type": "code",
   "execution_count": null,
   "id": "b8b41d62",
   "metadata": {},
   "outputs": [],
   "source": []
  }
 ],
 "metadata": {
  "kernelspec": {
   "display_name": "Python 3 (ipykernel)",
   "language": "python",
   "name": "python3"
  },
  "language_info": {
   "codemirror_mode": {
    "name": "ipython",
    "version": 3
   },
   "file_extension": ".py",
   "mimetype": "text/x-python",
   "name": "python",
   "nbconvert_exporter": "python",
   "pygments_lexer": "ipython3",
   "version": "3.9.7"
  }
 },
 "nbformat": 4,
 "nbformat_minor": 5
}
