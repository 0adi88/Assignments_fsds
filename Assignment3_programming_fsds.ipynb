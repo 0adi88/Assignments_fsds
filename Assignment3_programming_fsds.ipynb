{
 "cells": [
  {
   "cell_type": "code",
   "execution_count": 1,
   "id": "9067791b",
   "metadata": {},
   "outputs": [
    {
     "name": "stdout",
     "output_type": "stream",
     "text": [
      "Enter the number : \n",
      "10\n",
      "Postive number\n"
     ]
    }
   ],
   "source": [
    "#Write a Python Program to Check if a Number is Positive, Negative or Zero?\n",
    "\n",
    "print(\"Enter the number : \")\n",
    "\n",
    "num = int(input())\n",
    "\n",
    "if num<0:\n",
    "    \n",
    "    print(\"Negative number\")\n",
    "else:\n",
    "    if (num==0):\n",
    "        print(\"Zero\")\n",
    "    print(\"Postive number\")\n"
   ]
  },
  {
   "cell_type": "code",
   "execution_count": 2,
   "id": "76811416",
   "metadata": {},
   "outputs": [
    {
     "name": "stdout",
     "output_type": "stream",
     "text": [
      "Enter the number : \n",
      "15\n",
      "odd number\n"
     ]
    }
   ],
   "source": [
    "# Write a Python Program to Check if a Number is Odd or Even?\n",
    "\n",
    "print(\"Enter the number : \")\n",
    "\n",
    "num = int(input())\n",
    "\n",
    "if num /2 == 0:\n",
    "    \n",
    "    print(\"Even number\")\n",
    "else:\n",
    "\n",
    "    print(\"odd number\")"
   ]
  },
  {
   "cell_type": "code",
   "execution_count": 1,
   "id": "9f851ce9",
   "metadata": {},
   "outputs": [
    {
     "name": "stdout",
     "output_type": "stream",
     "text": [
      "Enter the year2014\n",
      "Not a leap year\n"
     ]
    }
   ],
   "source": [
    "# Write a Python Program to Check Leap Year?\n",
    "\n",
    "year=int(input(\"Enter the year\"))\n",
    "if year%4==0 or year%400==0:\n",
    "    print(\"Leap year\")\n",
    "else:\n",
    "    print(\"Not a leap year\")"
   ]
  },
  {
   "cell_type": "code",
   "execution_count": null,
   "id": "81f81deb",
   "metadata": {},
   "outputs": [],
   "source": [
    "         "
   ]
  },
  {
   "cell_type": "code",
   "execution_count": 14,
   "id": "cffdae64",
   "metadata": {},
   "outputs": [
    {
     "name": "stdout",
     "output_type": "stream",
     "text": [
      "Enter Number :15\n",
      " Not Prime Number\n"
     ]
    }
   ],
   "source": [
    "# 4.    Write a Python Program to Check Prime Number?\n",
    "\n",
    "n=int(input(\"Enter Number :\"))\n",
    "\n",
    "if n>0:\n",
    "    for i in range(2,int(n/2)):\n",
    "        if n%i != 0:\n",
    "           \n",
    "            continue\n",
    "            \n",
    "        else:\n",
    "            print(\" Not Prime Number\")\n",
    "            break\n",
    "    else:\n",
    "        print(\"Prime number\")\n",
    "    \n",
    "else:\n",
    "    print(\"Not prime Number\")   "
   ]
  },
  {
   "cell_type": "code",
   "execution_count": null,
   "id": "3f2b2bc9",
   "metadata": {},
   "outputs": [],
   "source": [
    "#5.    Write a Python Program to Print all Prime Numbers in an Interval of 1-10000?\n",
    "\n",
    "n=int(input(\"enter number\"))\n",
    "if n>1 and n<1000:\n",
    "    for i in range(2,n):\n",
    "        if n%i!=0:\n",
    "           \n",
    "           continue\n",
    "        else:\n",
    "            print(\"Not a Prime Number\")\n",
    "            break\n",
    "    else:\n",
    "        print(\"Prime number\")\n",
    "\n",
    "else:\n",
    "    print(\"not prime or input another number\")"
   ]
  }
 ],
 "metadata": {
  "kernelspec": {
   "display_name": "Python 3 (ipykernel)",
   "language": "python",
   "name": "python3"
  },
  "language_info": {
   "codemirror_mode": {
    "name": "ipython",
    "version": 3
   },
   "file_extension": ".py",
   "mimetype": "text/x-python",
   "name": "python",
   "nbconvert_exporter": "python",
   "pygments_lexer": "ipython3",
   "version": "3.9.7"
  }
 },
 "nbformat": 4,
 "nbformat_minor": 5
}
