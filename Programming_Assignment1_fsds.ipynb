{
 "cells": [
  {
   "cell_type": "code",
   "execution_count": 1,
   "id": "ebede69f",
   "metadata": {},
   "outputs": [
    {
     "name": "stdout",
     "output_type": "stream",
     "text": [
      "Hello Python\n"
     ]
    }
   ],
   "source": [
    "#  Write a Python program to print \"Hello Python\"?\n",
    "\n",
    "print(\"Hello Python\")"
   ]
  },
  {
   "cell_type": "code",
   "execution_count": 4,
   "id": "fe9a41f1",
   "metadata": {},
   "outputs": [
    {
     "name": "stdout",
     "output_type": "stream",
     "text": [
      "Addition of numbers is  15\n",
      "Division of numbers is  2.0\n"
     ]
    }
   ],
   "source": [
    "# Write a Python program to do arithmetical operations addition and division.?\n",
    "\n",
    "a = 10\n",
    "b = 5\n",
    "print(\"Addition of numbers is \",a+b)\n",
    "print(\"Division of numbers is \",a/b)"
   ]
  },
  {
   "cell_type": "code",
   "execution_count": 3,
   "id": "d4c49107",
   "metadata": {},
   "outputs": [
    {
     "name": "stdout",
     "output_type": "stream",
     "text": [
      "Area of trinagle is 25.0\n"
     ]
    }
   ],
   "source": [
    "# Write a Python program to find the area of a triangle?\n",
    "\n",
    "base = 10 \n",
    "height = 5\n",
    "print(\"Area of trinagle is\", (base*height)/2)"
   ]
  },
  {
   "cell_type": "code",
   "execution_count": 6,
   "id": "764129b0",
   "metadata": {},
   "outputs": [
    {
     "name": "stdout",
     "output_type": "stream",
     "text": [
      "10 5\n"
     ]
    }
   ],
   "source": [
    "# Write a Python program to swap two variables?\n",
    "a,b = 5,10\n",
    "a,b = b,a\n",
    "print(a,b)"
   ]
  },
  {
   "cell_type": "code",
   "execution_count": 7,
   "id": "955f7e92",
   "metadata": {},
   "outputs": [
    {
     "name": "stdout",
     "output_type": "stream",
     "text": [
      "1.1803143361002428\n"
     ]
    }
   ],
   "source": [
    "#Write a Python program to generate a random number?\n",
    "\n",
    "import random\n",
    "print (random.uniform(1,2))"
   ]
  },
  {
   "cell_type": "code",
   "execution_count": null,
   "id": "5f776fcd",
   "metadata": {},
   "outputs": [],
   "source": []
  }
 ],
 "metadata": {
  "kernelspec": {
   "display_name": "Python 3 (ipykernel)",
   "language": "python",
   "name": "python3"
  },
  "language_info": {
   "codemirror_mode": {
    "name": "ipython",
    "version": 3
   },
   "file_extension": ".py",
   "mimetype": "text/x-python",
   "name": "python",
   "nbconvert_exporter": "python",
   "pygments_lexer": "ipython3",
   "version": "3.9.7"
  }
 },
 "nbformat": 4,
 "nbformat_minor": 5
}
