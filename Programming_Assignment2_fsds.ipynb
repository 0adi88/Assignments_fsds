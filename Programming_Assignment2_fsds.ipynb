{
 "cells": [
  {
   "cell_type": "code",
   "execution_count": 3,
   "id": "6e025748",
   "metadata": {},
   "outputs": [
    {
     "name": "stdout",
     "output_type": "stream",
     "text": [
      "miles is 9.3205665\n"
     ]
    }
   ],
   "source": [
    "# Write a Python program to convert kilometers to miles?\n",
    "\n",
    "kl = 15\n",
    "print (\"Miles is\" ,kl*0.6213711)"
   ]
  },
  {
   "cell_type": "code",
   "execution_count": 7,
   "id": "171c06e9",
   "metadata": {},
   "outputs": [
    {
     "name": "stdout",
     "output_type": "stream",
     "text": [
      "Fahrenheit value is  59.0\n"
     ]
    }
   ],
   "source": [
    "# Write a Python program to convert Celsius to Fahrenheit?\n",
    "cel = 15\n",
    "print(\"Fahrenheit value is \",(cel * 9/5) + 32 )\n"
   ]
  },
  {
   "cell_type": "code",
   "execution_count": 10,
   "id": "b20dd545",
   "metadata": {},
   "outputs": [
    {
     "name": "stdout",
     "output_type": "stream",
     "text": [
      "     July 2018\n",
      "Mo Tu We Th Fr Sa Su\n",
      "                   1\n",
      " 2  3  4  5  6  7  8\n",
      " 9 10 11 12 13 14 15\n",
      "16 17 18 19 20 21 22\n",
      "23 24 25 26 27 28 29\n",
      "30 31\n",
      "\n"
     ]
    }
   ],
   "source": [
    "#Write a Python program to display calendar?\n",
    "import calendar\n",
    "print(calendar.month(2018,7))"
   ]
  },
  {
   "cell_type": "code",
   "execution_count": 29,
   "id": "25093db0",
   "metadata": {},
   "outputs": [
    {
     "name": "stdout",
     "output_type": "stream",
     "text": [
      "Roots of Equation Real -3.0 -4.0\n"
     ]
    }
   ],
   "source": [
    "#Write a Python program to solve quadratic equation?\n",
    "import math\n",
    "a,b,c = 1,7,12\n",
    "desc = b*b-4*a*c \n",
    "val = math.sqrt(desc)\n",
    "if (desc > 0):\n",
    "    ans1 = (-b + val)/(2 * a)\n",
    "    ans2 = (-b - val)/(2 * a)\n",
    "    print(\"Roots of Equation Real\",ans1,ans2)\n",
    "elif (desc > 0):\n",
    "    ans1 = (-b + val)/(2 * a)\n",
    "    print(\"Roots of Equation Same\",ans1,ans1)\n",
    "else:\n",
    "    ans1 = (-b + val)/(2 * a)\n",
    "    ans2 = (-b - val)/(2 * a)\n",
    "    print(\"Roots of Equation complex\",ans1,ans2)\n"
   ]
  },
  {
   "cell_type": "code",
   "execution_count": 14,
   "id": "fb1719e8",
   "metadata": {},
   "outputs": [
    {
     "name": "stdout",
     "output_type": "stream",
     "text": [
      "Original numbers 5 6\n",
      "Reversed numbers 6 5\n"
     ]
    }
   ],
   "source": [
    "#Write a Python program to swap two variables without temp variable?\n",
    "\n",
    "a,b = 5,6\n",
    "print(\"Original numbers\",a,b)\n",
    "a,b = b,a\n",
    "print(\"Reversed numbers\", a,b)"
   ]
  },
  {
   "cell_type": "code",
   "execution_count": null,
   "id": "b08dddb8",
   "metadata": {},
   "outputs": [],
   "source": []
  }
 ],
 "metadata": {
  "kernelspec": {
   "display_name": "Python 3 (ipykernel)",
   "language": "python",
   "name": "python3"
  },
  "language_info": {
   "codemirror_mode": {
    "name": "ipython",
    "version": 3
   },
   "file_extension": ".py",
   "mimetype": "text/x-python",
   "name": "python",
   "nbconvert_exporter": "python",
   "pygments_lexer": "ipython3",
   "version": "3.9.7"
  }
 },
 "nbformat": 4,
 "nbformat_minor": 5
}
